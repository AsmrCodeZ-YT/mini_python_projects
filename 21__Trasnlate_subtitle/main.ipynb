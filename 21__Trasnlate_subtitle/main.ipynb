{
 "cells": [
  {
   "cell_type": "code",
   "execution_count": null,
   "metadata": {},
   "outputs": [],
   "source": [
    "!pip install deep-translator progress progressbar2 alive-progress tqdm\n",
    "\n",
    "from deep_translator import GoogleTranslator\n",
    "from pathlib import Path"
   ]
  },
  {
   "cell_type": "code",
   "execution_count": null,
   "metadata": {},
   "outputs": [],
   "source": [
    "\n",
    "\n",
    "p = Path(\"./sub.srt\")\n",
    "with open(\"ex22ort.srt\",\"w\",encoding=\"utf-8\") as result:\n",
    "\n",
    "    with open(p,\"r\") as f:\n",
    "        sen = f.readlines()\n",
    "        len_ = len(sen)\n",
    "        for i in range(6,len_,4):\n",
    "            all_text = sen[i].strip()\n",
    "            translated = GoogleTranslator(source='auto', target='fa').translate(all_text)  \n",
    "            sen[i] = f\"{translated}\\n\"\n",
    "            \n",
    "    # wtire\n",
    "    for i in range(len_):\n",
    "        result.write(sen[i]) \n"
   ]
  }
 ],
 "metadata": {
  "kernelspec": {
   "display_name": "Python 3",
   "language": "python",
   "name": "python3"
  },
  "language_info": {
   "codemirror_mode": {
    "name": "ipython",
    "version": 3
   },
   "file_extension": ".py",
   "mimetype": "text/x-python",
   "name": "python",
   "nbconvert_exporter": "python",
   "pygments_lexer": "ipython3",
   "version": "3.11.1"
  }
 },
 "nbformat": 4,
 "nbformat_minor": 2
}
